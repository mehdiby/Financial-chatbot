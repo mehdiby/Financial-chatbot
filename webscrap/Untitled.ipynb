{
 "cells": [
  {
   "cell_type": "code",
   "execution_count": 1,
   "id": "cdfcf18c-6aef-4720-a35e-35721ee08c30",
   "metadata": {},
   "outputs": [],
   "source": [
    "from bs4 import BeautifulSoup\n",
    "import requests\n",
    "import pandas as pd"
   ]
  },
  {
   "cell_type": "code",
   "execution_count": 2,
   "id": "81845040-7a4f-45c5-b6d8-dae6b5d5a10f",
   "metadata": {},
   "outputs": [
    {
     "data": {
      "text/plain": [
       "[' Can I use an ATM for free? ',\n",
       " ' What happens if I try to withdraw more money than I have in my account? ',\n",
       " ' Is there a fee? ',\n",
       " ' Do I need to keep a certain amount of money in my account? ',\n",
       " ' Is there a branch nearby? ',\n",
       " ' Can I access my account information online? ',\n",
       " ' Is mobile banking available? ',\n",
       " ' Will it cost me to transfer money? ',\n",
       " ' Do I have to pay for checks or replacement cards? ',\n",
       " ' Does the account pay me interest? ']"
      ]
     },
     "execution_count": 2,
     "metadata": {},
     "output_type": "execute_result"
    }
   ],
   "source": [
    "#questions\n",
    "question = []\n",
    "url = \"https://bettermoneyhabits.bankofamerica.com/en/personal-banking/choosing-bank-account-questions\"\n",
    "\n",
    "page_source = requests.get(url)\n",
    "soup = BeautifulSoup(page_source.content, \"html.parser\")\n",
    "answers = soup.find_all('h2',{\"class\": \"listicle-item__title text--primary-color\"})\n",
    "for answer in answers:\n",
    "    question.append(answer.text)\n",
    "question"
   ]
  },
  {
   "cell_type": "code",
   "execution_count": 4,
   "id": "165caa38-0158-4db0-bbec-8ffe1b44092e",
   "metadata": {},
   "outputs": [
    {
     "data": {
      "text/plain": [
       "['  ATMs allow you to withdraw money from your checking account without visiting a bank branch. But some withdrawals could cost you. Many banks charge you to use machines operated by other banks or third parties, and those fees can add up quickly. If a bank has a large network of ATMs, you have better access to no-fee withdrawals. Plus, some banks reimburse you for ATM fees.  ',\n",
       " '  Withdrawing more than your account contains is called an overdraft. Bank overdraft services generally allow your transaction to go through, but you will be charged a fee. Some banks prevent you from overdrafting when swiping your debit card and may let you request that all transactions are declined when your account doesn’t contain enough funds. You can also enroll in optional overdraft protection, which allows you to cover an overdraft with money from another account, such as your savings or a credit card. Keep in mind that this protection can result in a fee, and if you pay for the overdraft via a credit card, it may also be subject to interest.  ',\n",
       " '  Some banks charge monthly fees to maintain your account. In many cases, though, they waive those fees based on certain conditions, such as regular payroll direct deposits.  ',\n",
       " '  Banks typically require an initial deposit to open accounts, and some banks require you to pay a fee if you don’t maintain a minimum or average balance in your account. Those fees also may be waived based on certain conditions.  ',\n",
       " '  Unless you don’t mind doing all your banking online or over the phone, you might want to consider an institution with a branch close to your work or home. It may be worth spending some time on the bank’s website to figure out what transactions will require you to visit a branch.  ',\n",
       " '  You may be able to check balances, transfer money, receive statements and pay bills online. If you don’t have easy access to a branch, online banking can be very valuable. Make sure you know your online banking responsibilities and guarantees in the event someone fraudulently removes your funds through online services.  ',\n",
       " '  Some banks have mobile apps for convenient banking on the go. For example, you may be able to deposit checks by taking pictures of them with your phone. You may want to read reviews of your bank’s app to see what specific services are offered, since they can vary.  ',\n",
       " '  Many banks don’t charge you to pay bills directly from your checking account. If you’re sending money to friends or family, you generally won’t be charged if your bank offers a person-to-person transfer service within the mobile app or online banking. However, if you need to wire money outside the bank to a person or business, you may be charged a fee.  ',\n",
       " '  At many banks your first book of checks is free, but you’ll likely pay for additional ones. Some banks also charge you to replace lost or stolen debit cards. What’s more, some banks limit the number of checks you can write from your account each month, and charge a fee if you exceed that number.  ',\n",
       " '  Generally, if checking accounts pay interest, the rate is very low. High-yield checking accounts offer higher interest but typically require higher balances. Savings accounts offer higher rates, but because the accounts are intended for saving, they’re subject to different rules. Federal regulations, which apply to all banks, limit the number of withdrawals you can make from savings accounts each month, and some banks may charge for frequent savings withdrawals. It’s a good idea to check your bank’s deposit agreement and any disclosures to see what applies; you can do this while you’re looking at what interest rate the account may pay.  ']"
      ]
     },
     "execution_count": 4,
     "metadata": {},
     "output_type": "execute_result"
    }
   ],
   "source": [
    "#answers\n",
    "len(question)\n",
    "answ = []\n",
    "url = \"https://bettermoneyhabits.bankofamerica.com/en/personal-banking/choosing-bank-account-questions\"\n",
    "page_source = requests.get(url)\n",
    "soup = BeautifulSoup(page_source.content, \"html.parser\")\n",
    "answers = soup.find_all('div',class_=\"listicle-item__container js-listicle-container\")\n",
    "for answer in answers:\n",
    "    answ.append(answer.text)\n",
    "answ"
   ]
  },
  {
   "cell_type": "code",
   "execution_count": 5,
   "id": "850cd2a0-3631-495e-bbe7-f374cda8ca11",
   "metadata": {},
   "outputs": [],
   "source": [
    "df2=pd.DataFrame({\"Question\":question,\"Answer\":answ})\n"
   ]
  },
  {
   "cell_type": "code",
   "execution_count": 6,
   "id": "1b191f8b-1754-48b7-9ef1-b716658faf15",
   "metadata": {},
   "outputs": [
    {
     "data": {
      "text/html": [
       "<div>\n",
       "<style scoped>\n",
       "    .dataframe tbody tr th:only-of-type {\n",
       "        vertical-align: middle;\n",
       "    }\n",
       "\n",
       "    .dataframe tbody tr th {\n",
       "        vertical-align: top;\n",
       "    }\n",
       "\n",
       "    .dataframe thead th {\n",
       "        text-align: right;\n",
       "    }\n",
       "</style>\n",
       "<table border=\"1\" class=\"dataframe\">\n",
       "  <thead>\n",
       "    <tr style=\"text-align: right;\">\n",
       "      <th></th>\n",
       "      <th>Question</th>\n",
       "      <th>Answer</th>\n",
       "    </tr>\n",
       "  </thead>\n",
       "  <tbody>\n",
       "    <tr>\n",
       "      <th>0</th>\n",
       "      <td>Can I use an ATM for free?</td>\n",
       "      <td>ATMs allow you to withdraw money from your c...</td>\n",
       "    </tr>\n",
       "    <tr>\n",
       "      <th>1</th>\n",
       "      <td>What happens if I try to withdraw more money ...</td>\n",
       "      <td>Withdrawing more than your account contains ...</td>\n",
       "    </tr>\n",
       "    <tr>\n",
       "      <th>2</th>\n",
       "      <td>Is there a fee?</td>\n",
       "      <td>Some banks charge monthly fees to maintain y...</td>\n",
       "    </tr>\n",
       "    <tr>\n",
       "      <th>3</th>\n",
       "      <td>Do I need to keep a certain amount of money i...</td>\n",
       "      <td>Banks typically require an initial deposit t...</td>\n",
       "    </tr>\n",
       "    <tr>\n",
       "      <th>4</th>\n",
       "      <td>Is there a branch nearby?</td>\n",
       "      <td>Unless you don’t mind doing all your banking...</td>\n",
       "    </tr>\n",
       "    <tr>\n",
       "      <th>5</th>\n",
       "      <td>Can I access my account information online?</td>\n",
       "      <td>You may be able to check balances, transfer ...</td>\n",
       "    </tr>\n",
       "    <tr>\n",
       "      <th>6</th>\n",
       "      <td>Is mobile banking available?</td>\n",
       "      <td>Some banks have mobile apps for convenient b...</td>\n",
       "    </tr>\n",
       "    <tr>\n",
       "      <th>7</th>\n",
       "      <td>Will it cost me to transfer money?</td>\n",
       "      <td>Many banks don’t charge you to pay bills dir...</td>\n",
       "    </tr>\n",
       "    <tr>\n",
       "      <th>8</th>\n",
       "      <td>Do I have to pay for checks or replacement ca...</td>\n",
       "      <td>At many banks your first book of checks is f...</td>\n",
       "    </tr>\n",
       "    <tr>\n",
       "      <th>9</th>\n",
       "      <td>Does the account pay me interest?</td>\n",
       "      <td>Generally, if checking accounts pay interest...</td>\n",
       "    </tr>\n",
       "  </tbody>\n",
       "</table>\n",
       "</div>"
      ],
      "text/plain": [
       "                                            Question  \\\n",
       "0                        Can I use an ATM for free?    \n",
       "1   What happens if I try to withdraw more money ...   \n",
       "2                                   Is there a fee?    \n",
       "3   Do I need to keep a certain amount of money i...   \n",
       "4                         Is there a branch nearby?    \n",
       "5       Can I access my account information online?    \n",
       "6                      Is mobile banking available?    \n",
       "7                Will it cost me to transfer money?    \n",
       "8   Do I have to pay for checks or replacement ca...   \n",
       "9                 Does the account pay me interest?    \n",
       "\n",
       "                                              Answer  \n",
       "0    ATMs allow you to withdraw money from your c...  \n",
       "1    Withdrawing more than your account contains ...  \n",
       "2    Some banks charge monthly fees to maintain y...  \n",
       "3    Banks typically require an initial deposit t...  \n",
       "4    Unless you don’t mind doing all your banking...  \n",
       "5    You may be able to check balances, transfer ...  \n",
       "6    Some banks have mobile apps for convenient b...  \n",
       "7    Many banks don’t charge you to pay bills dir...  \n",
       "8    At many banks your first book of checks is f...  \n",
       "9    Generally, if checking accounts pay interest...  "
      ]
     },
     "execution_count": 6,
     "metadata": {},
     "output_type": "execute_result"
    }
   ],
   "source": [
    "df2"
   ]
  },
  {
   "cell_type": "code",
   "execution_count": null,
   "id": "735a08b0-e791-4f11-aee6-32b2fc745ec5",
   "metadata": {},
   "outputs": [],
   "source": []
  }
 ],
 "metadata": {
  "kernelspec": {
   "display_name": "Python 3",
   "language": "python",
   "name": "python3"
  },
  "language_info": {
   "codemirror_mode": {
    "name": "ipython",
    "version": 3
   },
   "file_extension": ".py",
   "mimetype": "text/x-python",
   "name": "python",
   "nbconvert_exporter": "python",
   "pygments_lexer": "ipython3",
   "version": "3.8.8"
  }
 },
 "nbformat": 4,
 "nbformat_minor": 5
}
